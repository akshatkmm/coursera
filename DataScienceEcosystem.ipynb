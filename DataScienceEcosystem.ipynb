{
 "cells": [
  {
   "cell_type": "markdown",
   "id": "dc453d73-5d05-4cd9-a2fc-c936014d65b6",
   "metadata": {},
   "source": [
    "# Data Science Tools and Ecosystem"
   ]
  },
  {
   "cell_type": "markdown",
   "id": "b6d8bc85-a8bb-4ea6-bc18-5d9fd24f17e2",
   "metadata": {},
   "source": [
    "In this notebook, Data Science Tools and Ecosystem are summarized."
   ]
  },
  {
   "cell_type": "markdown",
   "id": "df8df126-8f1c-4f6b-9f68-c6b87455bae0",
   "metadata": {},
   "source": [
    "Some of the popular languages that Data Scientists use are:\n",
    "<ol><li>Python</li>\n",
    "<li>R</li>\n",
    "<li>Java</li></ol>"
   ]
  },
  {
   "cell_type": "markdown",
   "id": "f7d7d851-1461-4946-94db-5afe16b8c6c3",
   "metadata": {
    "tags": []
   },
   "source": [
    "Some of the commonly used libraries used by Data Scientists include:\n",
    "<ol><li>TensorFlow</li>\n",
    "<li>NumPy</li>\n",
    "<li>Pandas</li></ol>"
   ]
  },
  {
   "cell_type": "markdown",
   "id": "82174a0c-df4c-4758-88a0-90b6ae53be43",
   "metadata": {},
   "source": [
    "<table>\n",
    "  <tr>\n",
    "    <th>Data Science Tools</th>\n",
    "  </tr>\n",
    "  <tr>\n",
    "    <td>Jupyter Notebook</td>\n",
    "  </tr>\n",
    "  <tr>\n",
    "    <td>RStudio</td>\n",
    "  </tr>\n",
    "  <tr>\n",
    "    <td>Apache Zeppelin</td>\n",
    "  </tr>\n",
    "</table>\n"
   ]
  },
  {
   "cell_type": "markdown",
   "id": "60f201ba-765f-40f9-997f-ef1f0e481ab6",
   "metadata": {
    "tags": []
   },
   "source": [
    "### Below are a few examples of evaluating arithmetic expressions in Python."
   ]
  },
  {
   "cell_type": "code",
   "execution_count": 10,
   "id": "952b7f97-c8c9-4054-b2a5-25f4ed5902ba",
   "metadata": {
    "tags": []
   },
   "outputs": [
    {
     "name": "stdout",
     "output_type": "stream",
     "text": [
      "17\n"
     ]
    }
   ],
   "source": [
    "# This is a simple arithmetic expression to multiply then add integers.\n",
    "result = (3 * 4) + 5\n",
    "print(result)"
   ]
  },
  {
   "cell_type": "code",
   "execution_count": 11,
   "id": "d8c59881-0023-405c-b6aa-d50eb6b38932",
   "metadata": {
    "tags": []
   },
   "outputs": [
    {
     "name": "stdout",
     "output_type": "stream",
     "text": [
      "3.3333333333333335\n"
     ]
    }
   ],
   "source": [
    "# This will convert 200 minutes to hours by dividing by 60.\n",
    "minutes = 200\n",
    "hours = minutes / 60\n",
    "print(hours)"
   ]
  },
  {
   "cell_type": "markdown",
   "id": "322d66a9-46e9-4dd9-9375-4c8475e6bd14",
   "metadata": {},
   "source": [
    "**Objectives:**\n",
    "\n",
    "- List popular languages for Data Science.\n",
    "- Introduce basic arithmetic operations in Python.\n",
    "- Demonstrate conversion of units in Python.\n",
    "- Showcase basic HTML table creation.\n"
   ]
  },
  {
   "cell_type": "markdown",
   "id": "40da767d-ddc3-4eb2-afa9-0fa818fe1e92",
   "metadata": {
    "tags": []
   },
   "source": [
    "## Author\n",
    "\n",
    "Akshat KMM"
   ]
  },
  {
   "cell_type": "code",
   "execution_count": null,
   "id": "c4ae7872-92f1-4f3c-8c3a-7ccfc2f61a45",
   "metadata": {},
   "outputs": [],
   "source": []
  }
 ],
 "metadata": {
  "kernelspec": {
   "display_name": "Python",
   "language": "python",
   "name": "conda-env-python-py"
  },
  "language_info": {
   "codemirror_mode": {
    "name": "ipython",
    "version": 3
   },
   "file_extension": ".py",
   "mimetype": "text/x-python",
   "name": "python",
   "nbconvert_exporter": "python",
   "pygments_lexer": "ipython3",
   "version": "3.7.12"
  }
 },
 "nbformat": 4,
 "nbformat_minor": 5
}
